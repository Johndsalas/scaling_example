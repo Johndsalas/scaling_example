{
 "cells": [
  {
   "cell_type": "code",
   "execution_count": 34,
   "id": "impaired-egyptian",
   "metadata": {},
   "outputs": [],
   "source": [
    "import pandas as pd\n",
    "import numpy as np\n",
    "\n",
    "import seaborn as sns\n",
    "import matplotlib.pyplot as plt\n",
    "\n",
    "from sklearn.metrics import mean_squared_error, explained_variance_score\n",
    "from sklearn.linear_model import LinearRegression, LassoLars, TweedieRegressor\n",
    "from sklearn.preprocessing import PolynomialFeatures\n",
    "from sklearn.preprocessing import StandardScaler, QuantileTransformer, PowerTransformer,RobustScaler,MinMaxScaler\n",
    "\n",
    "import warnings\n",
    "warnings.filterwarnings(\"ignore\")\n",
    "\n",
    "import acquire as a\n",
    "import prepare as p"
   ]
  },
  {
   "cell_type": "code",
   "execution_count": 2,
   "id": "vanilla-shakespeare",
   "metadata": {},
   "outputs": [],
   "source": [
    "df = a.get_zillow_data()"
   ]
  },
  {
   "cell_type": "code",
   "execution_count": 3,
   "id": "charitable-place",
   "metadata": {},
   "outputs": [
    {
     "data": {
      "text/plain": [
       "Index(['parcelid', 'logerror', 'transactiondate', 'id', 'parcelid',\n",
       "       'airconditioningtypeid', 'architecturalstyletypeid', 'basementsqft',\n",
       "       'bathroomcnt', 'bedroomcnt', 'buildingclasstypeid',\n",
       "       'buildingqualitytypeid', 'calculatedbathnbr', 'decktypeid',\n",
       "       'finishedfloor1squarefeet', 'calculatedfinishedsquarefeet',\n",
       "       'finishedsquarefeet12', 'finishedsquarefeet13', 'finishedsquarefeet15',\n",
       "       'finishedsquarefeet50', 'finishedsquarefeet6', 'fips', 'fireplacecnt',\n",
       "       'fullbathcnt', 'garagecarcnt', 'garagetotalsqft', 'hashottuborspa',\n",
       "       'heatingorsystemtypeid', 'latitude', 'longitude', 'lotsizesquarefeet',\n",
       "       'poolcnt', 'poolsizesum', 'pooltypeid10', 'pooltypeid2', 'pooltypeid7',\n",
       "       'propertycountylandusecode', 'propertylandusetypeid',\n",
       "       'propertyzoningdesc', 'rawcensustractandblock', 'regionidcity',\n",
       "       'regionidcounty', 'regionidneighborhood', 'regionidzip', 'roomcnt',\n",
       "       'storytypeid', 'threequarterbathnbr', 'typeconstructiontypeid',\n",
       "       'unitcnt', 'yardbuildingsqft17', 'yardbuildingsqft26', 'yearbuilt',\n",
       "       'numberofstories', 'fireplaceflag', 'structuretaxvaluedollarcnt',\n",
       "       'taxvaluedollarcnt', 'assessmentyear', 'landtaxvaluedollarcnt',\n",
       "       'taxamount', 'taxdelinquencyflag', 'taxdelinquencyyear',\n",
       "       'censustractandblock'],\n",
       "      dtype='object')"
      ]
     },
     "execution_count": 3,
     "metadata": {},
     "output_type": "execute_result"
    }
   ],
   "source": [
    "df.columns"
   ]
  },
  {
   "cell_type": "code",
   "execution_count": 4,
   "id": "appropriate-empire",
   "metadata": {},
   "outputs": [],
   "source": [
    "df = df[['bathroomcnt', 'bedroomcnt', 'lotsizesquarefeet', 'taxvaluedollarcnt']]"
   ]
  },
  {
   "cell_type": "code",
   "execution_count": 5,
   "id": "european-wisconsin",
   "metadata": {},
   "outputs": [
    {
     "data": {
      "text/html": [
       "<div>\n",
       "<style scoped>\n",
       "    .dataframe tbody tr th:only-of-type {\n",
       "        vertical-align: middle;\n",
       "    }\n",
       "\n",
       "    .dataframe tbody tr th {\n",
       "        vertical-align: top;\n",
       "    }\n",
       "\n",
       "    .dataframe thead th {\n",
       "        text-align: right;\n",
       "    }\n",
       "</style>\n",
       "<table border=\"1\" class=\"dataframe\">\n",
       "  <thead>\n",
       "    <tr style=\"text-align: right;\">\n",
       "      <th></th>\n",
       "      <th>bathroomcnt</th>\n",
       "      <th>bedroomcnt</th>\n",
       "      <th>lotsizesquarefeet</th>\n",
       "      <th>taxvaluedollarcnt</th>\n",
       "    </tr>\n",
       "  </thead>\n",
       "  <tbody>\n",
       "    <tr>\n",
       "      <th>0</th>\n",
       "      <td>3.0</td>\n",
       "      <td>4.0</td>\n",
       "      <td>13038.0</td>\n",
       "      <td>145143.0</td>\n",
       "    </tr>\n",
       "    <tr>\n",
       "      <th>1</th>\n",
       "      <td>3.0</td>\n",
       "      <td>4.0</td>\n",
       "      <td>63000.0</td>\n",
       "      <td>773303.0</td>\n",
       "    </tr>\n",
       "    <tr>\n",
       "      <th>2</th>\n",
       "      <td>1.0</td>\n",
       "      <td>2.0</td>\n",
       "      <td>4214.0</td>\n",
       "      <td>218552.0</td>\n",
       "    </tr>\n",
       "    <tr>\n",
       "      <th>3</th>\n",
       "      <td>3.0</td>\n",
       "      <td>4.0</td>\n",
       "      <td>20028.0</td>\n",
       "      <td>220583.0</td>\n",
       "    </tr>\n",
       "    <tr>\n",
       "      <th>4</th>\n",
       "      <td>3.0</td>\n",
       "      <td>4.0</td>\n",
       "      <td>10384.0</td>\n",
       "      <td>430108.0</td>\n",
       "    </tr>\n",
       "  </tbody>\n",
       "</table>\n",
       "</div>"
      ],
      "text/plain": [
       "   bathroomcnt  bedroomcnt  lotsizesquarefeet  taxvaluedollarcnt\n",
       "0          3.0         4.0            13038.0           145143.0\n",
       "1          3.0         4.0            63000.0           773303.0\n",
       "2          1.0         2.0             4214.0           218552.0\n",
       "3          3.0         4.0            20028.0           220583.0\n",
       "4          3.0         4.0            10384.0           430108.0"
      ]
     },
     "execution_count": 5,
     "metadata": {},
     "output_type": "execute_result"
    }
   ],
   "source": [
    "df.head()"
   ]
  },
  {
   "cell_type": "code",
   "execution_count": 6,
   "id": "thick-semester",
   "metadata": {},
   "outputs": [],
   "source": [
    "df = df.dropna()"
   ]
  },
  {
   "cell_type": "code",
   "execution_count": 7,
   "id": "registered-convenience",
   "metadata": {},
   "outputs": [
    {
     "data": {
      "text/plain": [
       "bathroomcnt          0\n",
       "bedroomcnt           0\n",
       "lotsizesquarefeet    0\n",
       "taxvaluedollarcnt    0\n",
       "dtype: int64"
      ]
     },
     "execution_count": 7,
     "metadata": {},
     "output_type": "execute_result"
    }
   ],
   "source": [
    "df.isna().sum()"
   ]
  },
  {
   "cell_type": "code",
   "execution_count": 19,
   "id": "classical-multiple",
   "metadata": {},
   "outputs": [],
   "source": [
    "train, test = p.split_my_data(df, train_ratio = .80, seed = 123)"
   ]
  },
  {
   "cell_type": "markdown",
   "id": "posted-dover",
   "metadata": {},
   "source": [
    "# Unscaled"
   ]
  },
  {
   "cell_type": "code",
   "execution_count": 20,
   "id": "silver-right",
   "metadata": {},
   "outputs": [],
   "source": [
    "# split into X and y\n",
    "X_train = train[['bathroomcnt', 'bedroomcnt', 'lotsizesquarefeet']]\n",
    "y_train = train[['taxvaluedollarcnt']]\n",
    "\n",
    "X_test = test[['bathroomcnt', 'bedroomcnt', 'lotsizesquarefeet']]\n",
    "y_test = test[['taxvaluedollarcnt']]\n",
    "\n",
    "\n",
    "mean_tax_value = int(y_train['taxvaluedollarcnt'].mean(axis=0))\n",
    "y_test[['yhat']] = mean_tax_value"
   ]
  },
  {
   "cell_type": "code",
   "execution_count": 38,
   "id": "boring-softball",
   "metadata": {},
   "outputs": [
    {
     "data": {
      "text/html": [
       "<div>\n",
       "<style scoped>\n",
       "    .dataframe tbody tr th:only-of-type {\n",
       "        vertical-align: middle;\n",
       "    }\n",
       "\n",
       "    .dataframe tbody tr th {\n",
       "        vertical-align: top;\n",
       "    }\n",
       "\n",
       "    .dataframe thead th {\n",
       "        text-align: right;\n",
       "    }\n",
       "</style>\n",
       "<table border=\"1\" class=\"dataframe\">\n",
       "  <thead>\n",
       "    <tr style=\"text-align: right;\">\n",
       "      <th></th>\n",
       "      <th>taxvaluedollarcnt</th>\n",
       "      <th>yhat</th>\n",
       "    </tr>\n",
       "  </thead>\n",
       "  <tbody>\n",
       "    <tr>\n",
       "      <th>33022</th>\n",
       "      <td>403691.0</td>\n",
       "      <td>494688</td>\n",
       "    </tr>\n",
       "    <tr>\n",
       "      <th>33690</th>\n",
       "      <td>97499.0</td>\n",
       "      <td>494688</td>\n",
       "    </tr>\n",
       "    <tr>\n",
       "      <th>33226</th>\n",
       "      <td>751284.0</td>\n",
       "      <td>494688</td>\n",
       "    </tr>\n",
       "    <tr>\n",
       "      <th>12740</th>\n",
       "      <td>252745.0</td>\n",
       "      <td>494688</td>\n",
       "    </tr>\n",
       "    <tr>\n",
       "      <th>25728</th>\n",
       "      <td>49031.0</td>\n",
       "      <td>494688</td>\n",
       "    </tr>\n",
       "    <tr>\n",
       "      <th>...</th>\n",
       "      <td>...</td>\n",
       "      <td>...</td>\n",
       "    </tr>\n",
       "    <tr>\n",
       "      <th>2691</th>\n",
       "      <td>190866.0</td>\n",
       "      <td>494688</td>\n",
       "    </tr>\n",
       "    <tr>\n",
       "      <th>26566</th>\n",
       "      <td>83212.0</td>\n",
       "      <td>494688</td>\n",
       "    </tr>\n",
       "    <tr>\n",
       "      <th>31772</th>\n",
       "      <td>646000.0</td>\n",
       "      <td>494688</td>\n",
       "    </tr>\n",
       "    <tr>\n",
       "      <th>22648</th>\n",
       "      <td>693683.0</td>\n",
       "      <td>494688</td>\n",
       "    </tr>\n",
       "    <tr>\n",
       "      <th>31801</th>\n",
       "      <td>2828342.0</td>\n",
       "      <td>494688</td>\n",
       "    </tr>\n",
       "  </tbody>\n",
       "</table>\n",
       "<p>6680 rows × 2 columns</p>\n",
       "</div>"
      ],
      "text/plain": [
       "       taxvaluedollarcnt    yhat\n",
       "33022           403691.0  494688\n",
       "33690            97499.0  494688\n",
       "33226           751284.0  494688\n",
       "12740           252745.0  494688\n",
       "25728            49031.0  494688\n",
       "...                  ...     ...\n",
       "2691            190866.0  494688\n",
       "26566            83212.0  494688\n",
       "31772           646000.0  494688\n",
       "22648           693683.0  494688\n",
       "31801          2828342.0  494688\n",
       "\n",
       "[6680 rows x 2 columns]"
      ]
     },
     "execution_count": 38,
     "metadata": {},
     "output_type": "execute_result"
    }
   ],
   "source": [
    "y_test"
   ]
  },
  {
   "cell_type": "code",
   "execution_count": 37,
   "id": "comparable-spectacular",
   "metadata": {},
   "outputs": [
    {
     "data": {
      "text/plain": [
       "0.0"
      ]
     },
     "execution_count": 37,
     "metadata": {},
     "output_type": "execute_result"
    }
   ],
   "source": [
    "baseline_rmse_test = mean_squared_error(y_test.taxvaluedollarcnt, y_test.yhat)**1/2\n",
    "evs = explained_variance_score(y_test.taxvaluedollarcnt, y_test.yhat)\n",
    "\n",
    "evs"
   ]
  },
  {
   "cell_type": "code",
   "execution_count": 22,
   "id": "female-postcard",
   "metadata": {
    "scrolled": true
   },
   "outputs": [
    {
     "data": {
      "text/plain": [
       "264531634146.2733"
      ]
     },
     "execution_count": 22,
     "metadata": {},
     "output_type": "execute_result"
    }
   ],
   "source": [
    "lr = LinearRegression(normalize=True)\n",
    "\n",
    "lr.fit(X_train,y_train.taxvaluedollarcnt)\n",
    "\n",
    "y_test['predictions'] = lr.predict(X_test)\n",
    "\n",
    "rmse_test = mean_squared_error(y_test.taxvaluedollarcnt, y_test.predictions)**1/2\n",
    "\n",
    "rmse_test"
   ]
  },
  {
   "cell_type": "code",
   "execution_count": 23,
   "id": "alleged-apartment",
   "metadata": {},
   "outputs": [
    {
     "data": {
      "text/plain": [
       "True"
      ]
     },
     "execution_count": 23,
     "metadata": {},
     "output_type": "execute_result"
    }
   ],
   "source": [
    "rmse_test < baseline_rmse_test"
   ]
  },
  {
   "cell_type": "markdown",
   "id": "featured-general",
   "metadata": {},
   "source": [
    "# Scaled"
   ]
  },
  {
   "cell_type": "code",
   "execution_count": 13,
   "id": "metric-spokesman",
   "metadata": {},
   "outputs": [],
   "source": [
    "train, test = p.split_my_data(df, train_ratio = .80, seed = 123)"
   ]
  },
  {
   "cell_type": "code",
   "execution_count": 30,
   "id": "center-equity",
   "metadata": {},
   "outputs": [],
   "source": [
    "# split into X and y\n",
    "X_train = train[['bathroomcnt', 'bedroomcnt', 'lotsizesquarefeet']]\n",
    "y_train = train[['taxvaluedollarcnt']]\n",
    "\n",
    "X_test = test[['bathroomcnt', 'bedroomcnt', 'lotsizesquarefeet']]\n",
    "y_test = test[['taxvaluedollarcnt']]\n",
    "\n",
    "# scale data\n",
    "scaler = MinMaxScaler()\n",
    "scaler.fit(X_train)\n",
    "\n",
    "X_train_scaled = pd.DataFrame(scaler.transform(X_train))\n",
    "X_test_scaled = scaler.transform(X_test)\n",
    "\n",
    "# get baseline\n",
    "mean_tax_value = int(y_train['taxvaluedollarcnt'].mean(axis=0))\n",
    "y_test[['yhat']] = mean_tax_value"
   ]
  },
  {
   "cell_type": "code",
   "execution_count": 27,
   "id": "eight-breach",
   "metadata": {},
   "outputs": [
    {
     "data": {
      "text/html": [
       "<div>\n",
       "<style scoped>\n",
       "    .dataframe tbody tr th:only-of-type {\n",
       "        vertical-align: middle;\n",
       "    }\n",
       "\n",
       "    .dataframe tbody tr th {\n",
       "        vertical-align: top;\n",
       "    }\n",
       "\n",
       "    .dataframe thead th {\n",
       "        text-align: right;\n",
       "    }\n",
       "</style>\n",
       "<table border=\"1\" class=\"dataframe\">\n",
       "  <thead>\n",
       "    <tr style=\"text-align: right;\">\n",
       "      <th></th>\n",
       "      <th>bathroomcnt</th>\n",
       "      <th>bedroomcnt</th>\n",
       "      <th>lotsizesquarefeet</th>\n",
       "    </tr>\n",
       "  </thead>\n",
       "  <tbody>\n",
       "    <tr>\n",
       "      <th>33022</th>\n",
       "      <td>2.0</td>\n",
       "      <td>3.0</td>\n",
       "      <td>7754.0</td>\n",
       "    </tr>\n",
       "    <tr>\n",
       "      <th>33690</th>\n",
       "      <td>2.0</td>\n",
       "      <td>2.0</td>\n",
       "      <td>12000.0</td>\n",
       "    </tr>\n",
       "    <tr>\n",
       "      <th>33226</th>\n",
       "      <td>3.0</td>\n",
       "      <td>4.0</td>\n",
       "      <td>5188.0</td>\n",
       "    </tr>\n",
       "    <tr>\n",
       "      <th>12740</th>\n",
       "      <td>2.0</td>\n",
       "      <td>3.0</td>\n",
       "      <td>7544.0</td>\n",
       "    </tr>\n",
       "    <tr>\n",
       "      <th>25728</th>\n",
       "      <td>2.0</td>\n",
       "      <td>3.0</td>\n",
       "      <td>8822.0</td>\n",
       "    </tr>\n",
       "  </tbody>\n",
       "</table>\n",
       "</div>"
      ],
      "text/plain": [
       "       bathroomcnt  bedroomcnt  lotsizesquarefeet\n",
       "33022          2.0         3.0             7754.0\n",
       "33690          2.0         2.0            12000.0\n",
       "33226          3.0         4.0             5188.0\n",
       "12740          2.0         3.0             7544.0\n",
       "25728          2.0         3.0             8822.0"
      ]
     },
     "execution_count": 27,
     "metadata": {},
     "output_type": "execute_result"
    }
   ],
   "source": [
    "X_test.head()"
   ]
  },
  {
   "cell_type": "code",
   "execution_count": 32,
   "id": "lyric-buffer",
   "metadata": {},
   "outputs": [
    {
     "data": {
      "text/plain": [
       "array([[0.08333333, 0.2       , 0.00097818],\n",
       "       [0.08333333, 0.1       , 0.00158736],\n",
       "       [0.16666667, 0.3       , 0.00061004],\n",
       "       ...,\n",
       "       [0.08333333, 0.2       , 0.00071118],\n",
       "       [0.08333333, 0.2       , 0.00091721],\n",
       "       [0.16666667, 0.3       , 0.00316295]])"
      ]
     },
     "execution_count": 32,
     "metadata": {},
     "output_type": "execute_result"
    }
   ],
   "source": [
    "X_test_scaled"
   ]
  },
  {
   "cell_type": "code",
   "execution_count": 25,
   "id": "changing-tension",
   "metadata": {},
   "outputs": [
    {
     "data": {
      "text/plain": [
       "353833722184.4765"
      ]
     },
     "execution_count": 25,
     "metadata": {},
     "output_type": "execute_result"
    }
   ],
   "source": [
    "baseline_rmse_test = mean_squared_error(y_test.taxvaluedollarcnt, y_test.yhat)**1/2\n",
    "baseline_rmse_test"
   ]
  },
  {
   "cell_type": "code",
   "execution_count": 26,
   "id": "conservative-membership",
   "metadata": {},
   "outputs": [
    {
     "data": {
      "text/plain": [
       "264531634146.2733"
      ]
     },
     "execution_count": 26,
     "metadata": {},
     "output_type": "execute_result"
    }
   ],
   "source": [
    "lr = LinearRegression(normalize=True)\n",
    "\n",
    "lr.fit(X_train_scaled,y_train.taxvaluedollarcnt)\n",
    "\n",
    "y_test['predictions_scaled'] = lr.predict(X_test_scaled)\n",
    "\n",
    "rmse_test_ = mean_squared_error(y_test.taxvaluedollarcnt, y_test.predictions_scaled)**1/2\n",
    "\n",
    "rmse_test"
   ]
  },
  {
   "cell_type": "code",
   "execution_count": 17,
   "id": "mathematical-destination",
   "metadata": {},
   "outputs": [
    {
     "data": {
      "text/plain": [
       "True"
      ]
     },
     "execution_count": 17,
     "metadata": {},
     "output_type": "execute_result"
    }
   ],
   "source": [
    "rmse_test < baseline_rmse_test"
   ]
  },
  {
   "cell_type": "code",
   "execution_count": 18,
   "id": "integrated-stranger",
   "metadata": {},
   "outputs": [
    {
     "data": {
      "text/html": [
       "<div>\n",
       "<style scoped>\n",
       "    .dataframe tbody tr th:only-of-type {\n",
       "        vertical-align: middle;\n",
       "    }\n",
       "\n",
       "    .dataframe tbody tr th {\n",
       "        vertical-align: top;\n",
       "    }\n",
       "\n",
       "    .dataframe thead th {\n",
       "        text-align: right;\n",
       "    }\n",
       "</style>\n",
       "<table border=\"1\" class=\"dataframe\">\n",
       "  <thead>\n",
       "    <tr style=\"text-align: right;\">\n",
       "      <th></th>\n",
       "      <th>taxvaluedollarcnt</th>\n",
       "      <th>yhat</th>\n",
       "      <th>predictions</th>\n",
       "      <th>predictions_scaled</th>\n",
       "    </tr>\n",
       "  </thead>\n",
       "  <tbody>\n",
       "    <tr>\n",
       "      <th>33022</th>\n",
       "      <td>403691.0</td>\n",
       "      <td>494688</td>\n",
       "      <td>432551.266043</td>\n",
       "      <td>432551.266043</td>\n",
       "    </tr>\n",
       "    <tr>\n",
       "      <th>33690</th>\n",
       "      <td>97499.0</td>\n",
       "      <td>494688</td>\n",
       "      <td>520080.951531</td>\n",
       "      <td>520080.951531</td>\n",
       "    </tr>\n",
       "    <tr>\n",
       "      <th>33226</th>\n",
       "      <td>751284.0</td>\n",
       "      <td>494688</td>\n",
       "      <td>768294.307521</td>\n",
       "      <td>768294.307521</td>\n",
       "    </tr>\n",
       "    <tr>\n",
       "      <th>12740</th>\n",
       "      <td>252745.0</td>\n",
       "      <td>494688</td>\n",
       "      <td>432545.976015</td>\n",
       "      <td>432545.976015</td>\n",
       "    </tr>\n",
       "    <tr>\n",
       "      <th>25728</th>\n",
       "      <td>49031.0</td>\n",
       "      <td>494688</td>\n",
       "      <td>432578.169612</td>\n",
       "      <td>432578.169612</td>\n",
       "    </tr>\n",
       "    <tr>\n",
       "      <th>...</th>\n",
       "      <td>...</td>\n",
       "      <td>...</td>\n",
       "      <td>...</td>\n",
       "      <td>...</td>\n",
       "    </tr>\n",
       "    <tr>\n",
       "      <th>2691</th>\n",
       "      <td>190866.0</td>\n",
       "      <td>494688</td>\n",
       "      <td>432469.195043</td>\n",
       "      <td>432469.195043</td>\n",
       "    </tr>\n",
       "    <tr>\n",
       "      <th>26566</th>\n",
       "      <td>83212.0</td>\n",
       "      <td>494688</td>\n",
       "      <td>519930.336888</td>\n",
       "      <td>519930.336888</td>\n",
       "    </tr>\n",
       "    <tr>\n",
       "      <th>31772</th>\n",
       "      <td>646000.0</td>\n",
       "      <td>494688</td>\n",
       "      <td>432504.386322</td>\n",
       "      <td>432504.386322</td>\n",
       "    </tr>\n",
       "    <tr>\n",
       "      <th>22648</th>\n",
       "      <td>693683.0</td>\n",
       "      <td>494688</td>\n",
       "      <td>432540.560034</td>\n",
       "      <td>432540.560034</td>\n",
       "    </tr>\n",
       "    <tr>\n",
       "      <th>31801</th>\n",
       "      <td>2828342.0</td>\n",
       "      <td>494688</td>\n",
       "      <td>768742.549196</td>\n",
       "      <td>768742.549196</td>\n",
       "    </tr>\n",
       "  </tbody>\n",
       "</table>\n",
       "<p>6680 rows × 4 columns</p>\n",
       "</div>"
      ],
      "text/plain": [
       "       taxvaluedollarcnt    yhat    predictions  predictions_scaled\n",
       "33022           403691.0  494688  432551.266043       432551.266043\n",
       "33690            97499.0  494688  520080.951531       520080.951531\n",
       "33226           751284.0  494688  768294.307521       768294.307521\n",
       "12740           252745.0  494688  432545.976015       432545.976015\n",
       "25728            49031.0  494688  432578.169612       432578.169612\n",
       "...                  ...     ...            ...                 ...\n",
       "2691            190866.0  494688  432469.195043       432469.195043\n",
       "26566            83212.0  494688  519930.336888       519930.336888\n",
       "31772           646000.0  494688  432504.386322       432504.386322\n",
       "22648           693683.0  494688  432540.560034       432540.560034\n",
       "31801          2828342.0  494688  768742.549196       768742.549196\n",
       "\n",
       "[6680 rows x 4 columns]"
      ]
     },
     "execution_count": 18,
     "metadata": {},
     "output_type": "execute_result"
    }
   ],
   "source": [
    "y_test"
   ]
  },
  {
   "cell_type": "code",
   "execution_count": null,
   "id": "running-transfer",
   "metadata": {},
   "outputs": [],
   "source": []
  }
 ],
 "metadata": {
  "kernelspec": {
   "display_name": "Python 3",
   "language": "python",
   "name": "python3"
  },
  "language_info": {
   "codemirror_mode": {
    "name": "ipython",
    "version": 3
   },
   "file_extension": ".py",
   "mimetype": "text/x-python",
   "name": "python",
   "nbconvert_exporter": "python",
   "pygments_lexer": "ipython3",
   "version": "3.7.4"
  }
 },
 "nbformat": 4,
 "nbformat_minor": 5
}
