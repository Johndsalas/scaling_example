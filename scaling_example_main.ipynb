{
 "cells": [
  {
   "cell_type": "code",
   "execution_count": 1,
   "id": "impaired-egyptian",
   "metadata": {},
   "outputs": [],
   "source": [
    "import pandas as pd\n",
    "import numpy as np\n",
    "\n",
    "import seaborn as sns\n",
    "import matplotlib.pyplot as plt\n",
    "\n",
    "from sklearn.metrics import mean_squared_error, explained_variance_score\n",
    "from sklearn.linear_model import LinearRegression, LassoLars, TweedieRegressor\n",
    "from sklearn.preprocessing import PolynomialFeatures\n",
    "from sklearn.preprocessing import StandardScaler, QuantileTransformer, PowerTransformer,RobustScaler,MinMaxScaler\n",
    "\n",
    "import scipy.stats as stats\n",
    "import math as m\n",
    "\n",
    "import warnings\n",
    "warnings.filterwarnings(\"ignore\")\n",
    "\n",
    "import acquire as a\n",
    "import prepare as p"
   ]
  },
  {
   "cell_type": "code",
   "execution_count": 2,
   "id": "vanilla-shakespeare",
   "metadata": {},
   "outputs": [],
   "source": [
    "df = a.get_zillow_data()"
   ]
  },
  {
   "cell_type": "code",
   "execution_count": 3,
   "id": "together-conducting",
   "metadata": {},
   "outputs": [
    {
     "data": {
      "text/plain": [
       "(33701, 62)"
      ]
     },
     "execution_count": 3,
     "metadata": {},
     "output_type": "execute_result"
    }
   ],
   "source": [
    "df.shape"
   ]
  },
  {
   "cell_type": "code",
   "execution_count": 4,
   "id": "printable-watson",
   "metadata": {},
   "outputs": [
    {
     "data": {
      "text/html": [
       "<div>\n",
       "<style scoped>\n",
       "    .dataframe tbody tr th:only-of-type {\n",
       "        vertical-align: middle;\n",
       "    }\n",
       "\n",
       "    .dataframe tbody tr th {\n",
       "        vertical-align: top;\n",
       "    }\n",
       "\n",
       "    .dataframe thead th {\n",
       "        text-align: right;\n",
       "    }\n",
       "</style>\n",
       "<table border=\"1\" class=\"dataframe\">\n",
       "  <thead>\n",
       "    <tr style=\"text-align: right;\">\n",
       "      <th></th>\n",
       "      <th>parcelid</th>\n",
       "      <th>logerror</th>\n",
       "      <th>id</th>\n",
       "      <th>parcelid</th>\n",
       "      <th>airconditioningtypeid</th>\n",
       "      <th>bathroomcnt</th>\n",
       "      <th>bedroomcnt</th>\n",
       "      <th>buildingqualitytypeid</th>\n",
       "      <th>calculatedbathnbr</th>\n",
       "      <th>calculatedfinishedsquarefeet</th>\n",
       "      <th>...</th>\n",
       "      <th>unitcnt</th>\n",
       "      <th>yearbuilt</th>\n",
       "      <th>numberofstories</th>\n",
       "      <th>structuretaxvaluedollarcnt</th>\n",
       "      <th>taxvaluedollarcnt</th>\n",
       "      <th>assessmentyear</th>\n",
       "      <th>landtaxvaluedollarcnt</th>\n",
       "      <th>taxamount</th>\n",
       "      <th>taxdelinquencyyear</th>\n",
       "      <th>censustractandblock</th>\n",
       "    </tr>\n",
       "  </thead>\n",
       "  <tbody>\n",
       "    <tr>\n",
       "      <th>count</th>\n",
       "      <td>3.370100e+04</td>\n",
       "      <td>33701.000000</td>\n",
       "      <td>3.370100e+04</td>\n",
       "      <td>3.370100e+04</td>\n",
       "      <td>11545.0</td>\n",
       "      <td>33701.000000</td>\n",
       "      <td>33701.000000</td>\n",
       "      <td>33574.000000</td>\n",
       "      <td>33701.000000</td>\n",
       "      <td>33701.000000</td>\n",
       "      <td>...</td>\n",
       "      <td>33701.0</td>\n",
       "      <td>33694.000000</td>\n",
       "      <td>7.000000</td>\n",
       "      <td>3.364100e+04</td>\n",
       "      <td>3.370100e+04</td>\n",
       "      <td>33701.0</td>\n",
       "      <td>3.370100e+04</td>\n",
       "      <td>33697.000000</td>\n",
       "      <td>1727.000000</td>\n",
       "      <td>3.364000e+04</td>\n",
       "    </tr>\n",
       "    <tr>\n",
       "      <th>mean</th>\n",
       "      <td>1.192514e+07</td>\n",
       "      <td>0.015062</td>\n",
       "      <td>1.500553e+06</td>\n",
       "      <td>1.192514e+07</td>\n",
       "      <td>1.0</td>\n",
       "      <td>2.196611</td>\n",
       "      <td>3.206403</td>\n",
       "      <td>6.269524</td>\n",
       "      <td>2.196611</td>\n",
       "      <td>1818.799472</td>\n",
       "      <td>...</td>\n",
       "      <td>1.0</td>\n",
       "      <td>1957.360628</td>\n",
       "      <td>1.428571</td>\n",
       "      <td>1.859574e+05</td>\n",
       "      <td>4.988419e+05</td>\n",
       "      <td>2016.0</td>\n",
       "      <td>3.132156e+05</td>\n",
       "      <td>6297.476117</td>\n",
       "      <td>14.109438</td>\n",
       "      <td>6.038719e+13</td>\n",
       "    </tr>\n",
       "    <tr>\n",
       "      <th>std</th>\n",
       "      <td>3.026883e+06</td>\n",
       "      <td>0.168529</td>\n",
       "      <td>8.592229e+05</td>\n",
       "      <td>3.026883e+06</td>\n",
       "      <td>0.0</td>\n",
       "      <td>1.051849</td>\n",
       "      <td>0.934569</td>\n",
       "      <td>1.714899</td>\n",
       "      <td>1.051849</td>\n",
       "      <td>987.810367</td>\n",
       "      <td>...</td>\n",
       "      <td>0.0</td>\n",
       "      <td>23.027131</td>\n",
       "      <td>0.786796</td>\n",
       "      <td>2.688687e+05</td>\n",
       "      <td>7.841555e+05</td>\n",
       "      <td>0.0</td>\n",
       "      <td>5.755294e+05</td>\n",
       "      <td>9234.633765</td>\n",
       "      <td>2.540097</td>\n",
       "      <td>2.304408e+12</td>\n",
       "    </tr>\n",
       "    <tr>\n",
       "      <th>min</th>\n",
       "      <td>1.071186e+07</td>\n",
       "      <td>-4.655420</td>\n",
       "      <td>1.433000e+03</td>\n",
       "      <td>1.071186e+07</td>\n",
       "      <td>1.0</td>\n",
       "      <td>1.000000</td>\n",
       "      <td>1.000000</td>\n",
       "      <td>1.000000</td>\n",
       "      <td>1.000000</td>\n",
       "      <td>504.000000</td>\n",
       "      <td>...</td>\n",
       "      <td>1.0</td>\n",
       "      <td>1878.000000</td>\n",
       "      <td>1.000000</td>\n",
       "      <td>1.480000e+02</td>\n",
       "      <td>1.000000e+03</td>\n",
       "      <td>2016.0</td>\n",
       "      <td>1.610000e+02</td>\n",
       "      <td>120.840000</td>\n",
       "      <td>4.000000</td>\n",
       "      <td>6.037101e+13</td>\n",
       "    </tr>\n",
       "    <tr>\n",
       "      <th>25%</th>\n",
       "      <td>1.120588e+07</td>\n",
       "      <td>-0.029372</td>\n",
       "      <td>7.663920e+05</td>\n",
       "      <td>1.120588e+07</td>\n",
       "      <td>1.0</td>\n",
       "      <td>2.000000</td>\n",
       "      <td>3.000000</td>\n",
       "      <td>5.000000</td>\n",
       "      <td>2.000000</td>\n",
       "      <td>1204.000000</td>\n",
       "      <td>...</td>\n",
       "      <td>1.0</td>\n",
       "      <td>1946.000000</td>\n",
       "      <td>1.000000</td>\n",
       "      <td>7.340200e+04</td>\n",
       "      <td>1.651660e+05</td>\n",
       "      <td>2016.0</td>\n",
       "      <td>5.666200e+04</td>\n",
       "      <td>2414.580000</td>\n",
       "      <td>14.000000</td>\n",
       "      <td>6.037235e+13</td>\n",
       "    </tr>\n",
       "    <tr>\n",
       "      <th>50%</th>\n",
       "      <td>1.188123e+07</td>\n",
       "      <td>0.006140</td>\n",
       "      <td>1.500939e+06</td>\n",
       "      <td>1.188123e+07</td>\n",
       "      <td>1.0</td>\n",
       "      <td>2.000000</td>\n",
       "      <td>3.000000</td>\n",
       "      <td>6.000000</td>\n",
       "      <td>2.000000</td>\n",
       "      <td>1560.000000</td>\n",
       "      <td>...</td>\n",
       "      <td>1.0</td>\n",
       "      <td>1954.000000</td>\n",
       "      <td>1.000000</td>\n",
       "      <td>1.232670e+05</td>\n",
       "      <td>3.237600e+05</td>\n",
       "      <td>2016.0</td>\n",
       "      <td>1.840140e+05</td>\n",
       "      <td>4280.370000</td>\n",
       "      <td>15.000000</td>\n",
       "      <td>6.037432e+13</td>\n",
       "    </tr>\n",
       "    <tr>\n",
       "      <th>75%</th>\n",
       "      <td>1.250052e+07</td>\n",
       "      <td>0.042124</td>\n",
       "      <td>2.245791e+06</td>\n",
       "      <td>1.250052e+07</td>\n",
       "      <td>1.0</td>\n",
       "      <td>3.000000</td>\n",
       "      <td>4.000000</td>\n",
       "      <td>8.000000</td>\n",
       "      <td>3.000000</td>\n",
       "      <td>2143.000000</td>\n",
       "      <td>...</td>\n",
       "      <td>1.0</td>\n",
       "      <td>1969.000000</td>\n",
       "      <td>1.500000</td>\n",
       "      <td>2.050000e+05</td>\n",
       "      <td>5.529570e+05</td>\n",
       "      <td>2016.0</td>\n",
       "      <td>3.629510e+05</td>\n",
       "      <td>6944.040000</td>\n",
       "      <td>15.000000</td>\n",
       "      <td>6.037600e+13</td>\n",
       "    </tr>\n",
       "    <tr>\n",
       "      <th>max</th>\n",
       "      <td>1.676392e+08</td>\n",
       "      <td>5.262999</td>\n",
       "      <td>2.982167e+06</td>\n",
       "      <td>1.676392e+08</td>\n",
       "      <td>1.0</td>\n",
       "      <td>13.000000</td>\n",
       "      <td>11.000000</td>\n",
       "      <td>12.000000</td>\n",
       "      <td>13.000000</td>\n",
       "      <td>21929.000000</td>\n",
       "      <td>...</td>\n",
       "      <td>1.0</td>\n",
       "      <td>2016.000000</td>\n",
       "      <td>3.000000</td>\n",
       "      <td>9.164901e+06</td>\n",
       "      <td>2.538125e+07</td>\n",
       "      <td>2016.0</td>\n",
       "      <td>2.233550e+07</td>\n",
       "      <td>290998.060000</td>\n",
       "      <td>99.000000</td>\n",
       "      <td>4.830301e+14</td>\n",
       "    </tr>\n",
       "  </tbody>\n",
       "</table>\n",
       "<p>8 rows × 38 columns</p>\n",
       "</div>"
      ],
      "text/plain": [
       "           parcelid      logerror            id      parcelid  \\\n",
       "count  3.370100e+04  33701.000000  3.370100e+04  3.370100e+04   \n",
       "mean   1.192514e+07      0.015062  1.500553e+06  1.192514e+07   \n",
       "std    3.026883e+06      0.168529  8.592229e+05  3.026883e+06   \n",
       "min    1.071186e+07     -4.655420  1.433000e+03  1.071186e+07   \n",
       "25%    1.120588e+07     -0.029372  7.663920e+05  1.120588e+07   \n",
       "50%    1.188123e+07      0.006140  1.500939e+06  1.188123e+07   \n",
       "75%    1.250052e+07      0.042124  2.245791e+06  1.250052e+07   \n",
       "max    1.676392e+08      5.262999  2.982167e+06  1.676392e+08   \n",
       "\n",
       "       airconditioningtypeid   bathroomcnt    bedroomcnt  \\\n",
       "count                11545.0  33701.000000  33701.000000   \n",
       "mean                     1.0      2.196611      3.206403   \n",
       "std                      0.0      1.051849      0.934569   \n",
       "min                      1.0      1.000000      1.000000   \n",
       "25%                      1.0      2.000000      3.000000   \n",
       "50%                      1.0      2.000000      3.000000   \n",
       "75%                      1.0      3.000000      4.000000   \n",
       "max                      1.0     13.000000     11.000000   \n",
       "\n",
       "       buildingqualitytypeid  calculatedbathnbr  calculatedfinishedsquarefeet  \\\n",
       "count           33574.000000       33701.000000                  33701.000000   \n",
       "mean                6.269524           2.196611                   1818.799472   \n",
       "std                 1.714899           1.051849                    987.810367   \n",
       "min                 1.000000           1.000000                    504.000000   \n",
       "25%                 5.000000           2.000000                   1204.000000   \n",
       "50%                 6.000000           2.000000                   1560.000000   \n",
       "75%                 8.000000           3.000000                   2143.000000   \n",
       "max                12.000000          13.000000                  21929.000000   \n",
       "\n",
       "       ...  unitcnt     yearbuilt  numberofstories  \\\n",
       "count  ...  33701.0  33694.000000         7.000000   \n",
       "mean   ...      1.0   1957.360628         1.428571   \n",
       "std    ...      0.0     23.027131         0.786796   \n",
       "min    ...      1.0   1878.000000         1.000000   \n",
       "25%    ...      1.0   1946.000000         1.000000   \n",
       "50%    ...      1.0   1954.000000         1.000000   \n",
       "75%    ...      1.0   1969.000000         1.500000   \n",
       "max    ...      1.0   2016.000000         3.000000   \n",
       "\n",
       "       structuretaxvaluedollarcnt  taxvaluedollarcnt  assessmentyear  \\\n",
       "count                3.364100e+04       3.370100e+04         33701.0   \n",
       "mean                 1.859574e+05       4.988419e+05          2016.0   \n",
       "std                  2.688687e+05       7.841555e+05             0.0   \n",
       "min                  1.480000e+02       1.000000e+03          2016.0   \n",
       "25%                  7.340200e+04       1.651660e+05          2016.0   \n",
       "50%                  1.232670e+05       3.237600e+05          2016.0   \n",
       "75%                  2.050000e+05       5.529570e+05          2016.0   \n",
       "max                  9.164901e+06       2.538125e+07          2016.0   \n",
       "\n",
       "       landtaxvaluedollarcnt      taxamount  taxdelinquencyyear  \\\n",
       "count           3.370100e+04   33697.000000         1727.000000   \n",
       "mean            3.132156e+05    6297.476117           14.109438   \n",
       "std             5.755294e+05    9234.633765            2.540097   \n",
       "min             1.610000e+02     120.840000            4.000000   \n",
       "25%             5.666200e+04    2414.580000           14.000000   \n",
       "50%             1.840140e+05    4280.370000           15.000000   \n",
       "75%             3.629510e+05    6944.040000           15.000000   \n",
       "max             2.233550e+07  290998.060000           99.000000   \n",
       "\n",
       "       censustractandblock  \n",
       "count         3.364000e+04  \n",
       "mean          6.038719e+13  \n",
       "std           2.304408e+12  \n",
       "min           6.037101e+13  \n",
       "25%           6.037235e+13  \n",
       "50%           6.037432e+13  \n",
       "75%           6.037600e+13  \n",
       "max           4.830301e+14  \n",
       "\n",
       "[8 rows x 38 columns]"
      ]
     },
     "execution_count": 4,
     "metadata": {},
     "output_type": "execute_result"
    }
   ],
   "source": [
    "df.describe()"
   ]
  },
  {
   "cell_type": "code",
   "execution_count": 5,
   "id": "charitable-place",
   "metadata": {},
   "outputs": [
    {
     "data": {
      "text/plain": [
       "Index(['parcelid', 'logerror', 'transactiondate', 'id', 'parcelid',\n",
       "       'airconditioningtypeid', 'architecturalstyletypeid', 'basementsqft',\n",
       "       'bathroomcnt', 'bedroomcnt', 'buildingclasstypeid',\n",
       "       'buildingqualitytypeid', 'calculatedbathnbr', 'decktypeid',\n",
       "       'finishedfloor1squarefeet', 'calculatedfinishedsquarefeet',\n",
       "       'finishedsquarefeet12', 'finishedsquarefeet13', 'finishedsquarefeet15',\n",
       "       'finishedsquarefeet50', 'finishedsquarefeet6', 'fips', 'fireplacecnt',\n",
       "       'fullbathcnt', 'garagecarcnt', 'garagetotalsqft', 'hashottuborspa',\n",
       "       'heatingorsystemtypeid', 'latitude', 'longitude', 'lotsizesquarefeet',\n",
       "       'poolcnt', 'poolsizesum', 'pooltypeid10', 'pooltypeid2', 'pooltypeid7',\n",
       "       'propertycountylandusecode', 'propertylandusetypeid',\n",
       "       'propertyzoningdesc', 'rawcensustractandblock', 'regionidcity',\n",
       "       'regionidcounty', 'regionidneighborhood', 'regionidzip', 'roomcnt',\n",
       "       'storytypeid', 'threequarterbathnbr', 'typeconstructiontypeid',\n",
       "       'unitcnt', 'yardbuildingsqft17', 'yardbuildingsqft26', 'yearbuilt',\n",
       "       'numberofstories', 'fireplaceflag', 'structuretaxvaluedollarcnt',\n",
       "       'taxvaluedollarcnt', 'assessmentyear', 'landtaxvaluedollarcnt',\n",
       "       'taxamount', 'taxdelinquencyflag', 'taxdelinquencyyear',\n",
       "       'censustractandblock'],\n",
       "      dtype='object')"
      ]
     },
     "execution_count": 5,
     "metadata": {},
     "output_type": "execute_result"
    }
   ],
   "source": [
    "df.columns"
   ]
  },
  {
   "cell_type": "code",
   "execution_count": 6,
   "id": "appropriate-empire",
   "metadata": {},
   "outputs": [],
   "source": [
    "df = df[['bathroomcnt', 'calculatedfinishedsquarefeet', 'taxvaluedollarcnt']]"
   ]
  },
  {
   "cell_type": "code",
   "execution_count": 7,
   "id": "european-wisconsin",
   "metadata": {},
   "outputs": [
    {
     "data": {
      "text/html": [
       "<div>\n",
       "<style scoped>\n",
       "    .dataframe tbody tr th:only-of-type {\n",
       "        vertical-align: middle;\n",
       "    }\n",
       "\n",
       "    .dataframe tbody tr th {\n",
       "        vertical-align: top;\n",
       "    }\n",
       "\n",
       "    .dataframe thead th {\n",
       "        text-align: right;\n",
       "    }\n",
       "</style>\n",
       "<table border=\"1\" class=\"dataframe\">\n",
       "  <thead>\n",
       "    <tr style=\"text-align: right;\">\n",
       "      <th></th>\n",
       "      <th>bathroomcnt</th>\n",
       "      <th>calculatedfinishedsquarefeet</th>\n",
       "      <th>taxvaluedollarcnt</th>\n",
       "    </tr>\n",
       "  </thead>\n",
       "  <tbody>\n",
       "    <tr>\n",
       "      <th>0</th>\n",
       "      <td>3.0</td>\n",
       "      <td>2376.0</td>\n",
       "      <td>145143.0</td>\n",
       "    </tr>\n",
       "    <tr>\n",
       "      <th>1</th>\n",
       "      <td>3.0</td>\n",
       "      <td>2962.0</td>\n",
       "      <td>773303.0</td>\n",
       "    </tr>\n",
       "    <tr>\n",
       "      <th>2</th>\n",
       "      <td>1.0</td>\n",
       "      <td>738.0</td>\n",
       "      <td>218552.0</td>\n",
       "    </tr>\n",
       "    <tr>\n",
       "      <th>3</th>\n",
       "      <td>3.0</td>\n",
       "      <td>3039.0</td>\n",
       "      <td>220583.0</td>\n",
       "    </tr>\n",
       "    <tr>\n",
       "      <th>4</th>\n",
       "      <td>3.0</td>\n",
       "      <td>2540.0</td>\n",
       "      <td>430108.0</td>\n",
       "    </tr>\n",
       "  </tbody>\n",
       "</table>\n",
       "</div>"
      ],
      "text/plain": [
       "   bathroomcnt  calculatedfinishedsquarefeet  taxvaluedollarcnt\n",
       "0          3.0                        2376.0           145143.0\n",
       "1          3.0                        2962.0           773303.0\n",
       "2          1.0                         738.0           218552.0\n",
       "3          3.0                        3039.0           220583.0\n",
       "4          3.0                        2540.0           430108.0"
      ]
     },
     "execution_count": 7,
     "metadata": {},
     "output_type": "execute_result"
    }
   ],
   "source": [
    "df.head()"
   ]
  },
  {
   "cell_type": "code",
   "execution_count": 8,
   "id": "thick-semester",
   "metadata": {},
   "outputs": [],
   "source": [
    "df = df.dropna()"
   ]
  },
  {
   "cell_type": "code",
   "execution_count": 9,
   "id": "registered-convenience",
   "metadata": {},
   "outputs": [
    {
     "data": {
      "text/plain": [
       "bathroomcnt                     0\n",
       "calculatedfinishedsquarefeet    0\n",
       "taxvaluedollarcnt               0\n",
       "dtype: int64"
      ]
     },
     "execution_count": 9,
     "metadata": {},
     "output_type": "execute_result"
    }
   ],
   "source": [
    "df.isna().sum()"
   ]
  },
  {
   "cell_type": "code",
   "execution_count": 10,
   "id": "alternate-journey",
   "metadata": {},
   "outputs": [
    {
     "data": {
      "text/html": [
       "<div>\n",
       "<style scoped>\n",
       "    .dataframe tbody tr th:only-of-type {\n",
       "        vertical-align: middle;\n",
       "    }\n",
       "\n",
       "    .dataframe tbody tr th {\n",
       "        vertical-align: top;\n",
       "    }\n",
       "\n",
       "    .dataframe thead th {\n",
       "        text-align: right;\n",
       "    }\n",
       "</style>\n",
       "<table border=\"1\" class=\"dataframe\">\n",
       "  <thead>\n",
       "    <tr style=\"text-align: right;\">\n",
       "      <th></th>\n",
       "      <th>bathroomcnt</th>\n",
       "      <th>calculatedfinishedsquarefeet</th>\n",
       "      <th>taxvaluedollarcnt</th>\n",
       "    </tr>\n",
       "  </thead>\n",
       "  <tbody>\n",
       "    <tr>\n",
       "      <th>0</th>\n",
       "      <td>3.0</td>\n",
       "      <td>2376.0</td>\n",
       "      <td>145143.0</td>\n",
       "    </tr>\n",
       "    <tr>\n",
       "      <th>1</th>\n",
       "      <td>3.0</td>\n",
       "      <td>2962.0</td>\n",
       "      <td>773303.0</td>\n",
       "    </tr>\n",
       "    <tr>\n",
       "      <th>2</th>\n",
       "      <td>1.0</td>\n",
       "      <td>738.0</td>\n",
       "      <td>218552.0</td>\n",
       "    </tr>\n",
       "    <tr>\n",
       "      <th>3</th>\n",
       "      <td>3.0</td>\n",
       "      <td>3039.0</td>\n",
       "      <td>220583.0</td>\n",
       "    </tr>\n",
       "    <tr>\n",
       "      <th>4</th>\n",
       "      <td>3.0</td>\n",
       "      <td>2540.0</td>\n",
       "      <td>430108.0</td>\n",
       "    </tr>\n",
       "  </tbody>\n",
       "</table>\n",
       "</div>"
      ],
      "text/plain": [
       "   bathroomcnt  calculatedfinishedsquarefeet  taxvaluedollarcnt\n",
       "0          3.0                        2376.0           145143.0\n",
       "1          3.0                        2962.0           773303.0\n",
       "2          1.0                         738.0           218552.0\n",
       "3          3.0                        3039.0           220583.0\n",
       "4          3.0                        2540.0           430108.0"
      ]
     },
     "execution_count": 10,
     "metadata": {},
     "output_type": "execute_result"
    }
   ],
   "source": [
    "df.head()"
   ]
  },
  {
   "cell_type": "code",
   "execution_count": 11,
   "id": "automatic-niagara",
   "metadata": {},
   "outputs": [],
   "source": [
    "def get_outliers_iqr(df, col):\n",
    "    \n",
    "    q75, q25 = np.percentile(df[col], [75,25])\n",
    "    upper_bound = 3*stats.iqr(df[col]) + q75\n",
    "    lower_bound = q25 - 3*stats.iqr(df[col])\n",
    "        \n",
    "    return upper_bound, lower_bound"
   ]
  },
  {
   "cell_type": "code",
   "execution_count": 12,
   "id": "alternative-appreciation",
   "metadata": {},
   "outputs": [
    {
     "name": "stdout",
     "output_type": "stream",
     "text": [
      "bathroomcnt: (6.0, -1.0) \n",
      "calculatedfinishedsquarefeet: (4960.0, -1613.0) \n",
      "taxvaluedollarcnt: (1716330.0, -998207.0) \n"
     ]
    }
   ],
   "source": [
    "for col in df.columns:\n",
    "    \n",
    "    tup = get_outliers_iqr(df, col)\n",
    "    print(f\"{col}: {tup} \")"
   ]
  },
  {
   "cell_type": "code",
   "execution_count": 13,
   "id": "stuffed-street",
   "metadata": {},
   "outputs": [],
   "source": [
    "def remove_outliers_iqr(df, columns):\n",
    "    for col in columns:\n",
    "        q75, q25 = np.percentile(df[col], [75,25])\n",
    "        ub = 3*stats.iqr(df[col]) + q75\n",
    "        lb = q25 - 3*stats.iqr(df[col])\n",
    "        df = df[df[col] <= ub]\n",
    "        df = df[df[col] >= lb]\n",
    "    return df"
   ]
  },
  {
   "cell_type": "code",
   "execution_count": 14,
   "id": "express-deviation",
   "metadata": {},
   "outputs": [],
   "source": [
    "df = remove_outliers_iqr(df, df.columns)"
   ]
  },
  {
   "cell_type": "code",
   "execution_count": 15,
   "id": "liked-jackson",
   "metadata": {},
   "outputs": [
    {
     "data": {
      "text/plain": [
       "(32180, 3)"
      ]
     },
     "execution_count": 15,
     "metadata": {},
     "output_type": "execute_result"
    }
   ],
   "source": [
    "df.shape"
   ]
  },
  {
   "cell_type": "code",
   "execution_count": 16,
   "id": "classical-multiple",
   "metadata": {},
   "outputs": [],
   "source": [
    "train, test = p.split_my_data(df, train_ratio = .80, seed = 123)"
   ]
  },
  {
   "cell_type": "markdown",
   "id": "posted-dover",
   "metadata": {},
   "source": [
    "# Unscaled"
   ]
  },
  {
   "cell_type": "code",
   "execution_count": 17,
   "id": "silver-right",
   "metadata": {},
   "outputs": [
    {
     "name": "stdout",
     "output_type": "stream",
     "text": [
      "Baseline RMSE: 308442.24985367886\n",
      "\n",
      "RMSE Unscaled: 274007.204294274\n",
      "Coefficient Array Unscaled: [25434.89794832   172.90122039]\n",
      "\n"
     ]
    }
   ],
   "source": [
    "# split into X and y\n",
    "X_train = train[['bathroomcnt', 'calculatedfinishedsquarefeet']]\n",
    "y_train = train[['taxvaluedollarcnt']]\n",
    "\n",
    "X_test = test[['bathroomcnt', 'calculatedfinishedsquarefeet']]\n",
    "y_test = test[['taxvaluedollarcnt']]\n",
    "\n",
    "# get baseline value for X and y\n",
    "mean_tax_value = int(y_train['taxvaluedollarcnt'].mean(axis=0))\n",
    "y_test[['yhat']] = mean_tax_value\n",
    "\n",
    "mse_base = mean_squared_error(y_test.taxvaluedollarcnt, y_test.yhat)\n",
    "baseline_rmse = m.sqrt(mse_base)\n",
    "\n",
    "print(f\"Baseline RMSE: {baseline_rmse}\\n\")\n",
    "\n",
    "# create/fit regression model on unscaled data\n",
    "lr = LinearRegression()\n",
    "\n",
    "lr.fit(X_train,y_train.taxvaluedollarcnt)\n",
    "\n",
    "# get predictions\n",
    "y_test['predictions'] = lr.predict(X_test)\n",
    "\n",
    "# get error and coefficients for unscaled data\n",
    "rmse_test = m.sqrt(mean_squared_error(y_test.taxvaluedollarcnt, y_test.predictions))\n",
    "coef = lr.coef_\n",
    "\n",
    "print(f\"RMSE Unscaled: {rmse_test}\")\n",
    "print(f\"Coefficient Array Unscaled: {coef}\\n\")"
   ]
  },
  {
   "cell_type": "markdown",
   "id": "academic-springer",
   "metadata": {},
   "source": [
    "# Scaled"
   ]
  },
  {
   "cell_type": "code",
   "execution_count": 18,
   "id": "approved-atlas",
   "metadata": {},
   "outputs": [],
   "source": [
    "def scaler_min_max(df, col_list):\n",
    "    df_2 = df[col_list]\n",
    "    df = df.drop(columns = col_list)\n",
    "    scaler = MinMaxScaler(copy=True, feature_range=(0,1)).fit(df_2)\n",
    "    df_2 = pd.DataFrame(scaler.transform(df_2), columns=df_2.columns.values).set_index([df_2.index.values])\n",
    "    df = df.join(df_2)\n",
    "    return df"
   ]
  },
  {
   "cell_type": "code",
   "execution_count": 19,
   "id": "combined-isaac",
   "metadata": {},
   "outputs": [
    {
     "name": "stdout",
     "output_type": "stream",
     "text": [
      "RMSE scaled: 274000.3570412276\n",
      "Coefficient Array scaled: [127174.48974157 762321.48071137]\n",
      "\n"
     ]
    }
   ],
   "source": [
    "# scale X data\n",
    "X_train_scaled = scaler_min_max(X_train, ['bathroomcnt', 'calculatedfinishedsquarefeet'])\n",
    "X_test_scaled = scaler_min_max(X_test, ['bathroomcnt', 'calculatedfinishedsquarefeet'])\n",
    "\n",
    "# create and fit object to scaled data\n",
    "lr2 = LinearRegression()\n",
    "lr2.fit(X_train_scaled, y_train.taxvaluedollarcnt)\n",
    "\n",
    "# get predictions\n",
    "y_test['predictions_scaled'] = lr2.predict(X_test_scaled)\n",
    "\n",
    "# get error and coefficients for scaled data\n",
    "rmse_test2 = m.sqrt(mean_squared_error(y_test.taxvaluedollarcnt, y_test.predictions_scaled))\n",
    "\n",
    "coef2 = lr2.coef_\n",
    "\n",
    "print(f\"RMSE scaled: {rmse_test2}\")\n",
    "print(f\"Coefficient Array scaled: {coef2}\\n\")"
   ]
  },
  {
   "cell_type": "code",
   "execution_count": 20,
   "id": "social-permit",
   "metadata": {},
   "outputs": [
    {
     "data": {
      "text/plain": [
       "True"
      ]
     },
     "execution_count": 20,
     "metadata": {},
     "output_type": "execute_result"
    }
   ],
   "source": [
    "rmse_test > rmse_test2"
   ]
  },
  {
   "cell_type": "code",
   "execution_count": 21,
   "id": "moved-arlington",
   "metadata": {},
   "outputs": [
    {
     "data": {
      "text/plain": [
       "Text(0.5, 1.0, 'Bathrooms Scaled')"
      ]
     },
     "execution_count": 21,
     "metadata": {},
     "output_type": "execute_result"
    },
    {
     "data": {
      "image/png": "[encoded data removed]",
      "text/plain": [
       "<Figure size 936x432 with 2 Axes>"
      ]
     },
     "metadata": {
      "needs_background": "light"
     },
     "output_type": "display_data"
    }
   ],
   "source": [
    "plt.figure(figsize=(13, 6))\n",
    "plt.subplot(121)\n",
    "plt.hist(X_train.bathroomcnt, bins=6, ec='black')\n",
    "plt.title('Bathrooms Unscaled')\n",
    "plt.subplot(122)\n",
    "plt.hist(X_train_scaled.bathroomcnt, bins=6, ec='black')\n",
    "plt.title('Bathrooms Scaled')\n"
   ]
  },
  {
   "cell_type": "code",
   "execution_count": 22,
   "id": "important-collective",
   "metadata": {},
   "outputs": [
    {
     "data": {
      "text/plain": [
       "Text(0.5, 1.0, 'Calculated Finished Square Feet Scaled')"
      ]
     },
     "execution_count": 22,
     "metadata": {},
     "output_type": "execute_result"
    },
    {
     "data": {
      "image/png": "[encoded data removed]",
      "text/plain": [
       "<Figure size 936x432 with 2 Axes>"
      ]
     },
     "metadata": {
      "needs_background": "light"
     },
     "output_type": "display_data"
    }
   ],
   "source": [
    "plt.figure(figsize=(13, 6))\n",
    "plt.subplot(121)\n",
    "plt.hist(X_train.calculatedfinishedsquarefeet, bins=6, ec='black')\n",
    "plt.title('Calculated Finished Square Feet Unscaled')\n",
    "plt.subplot(122)\n",
    "plt.hist(X_train_scaled.calculatedfinishedsquarefeet, bins=6, ec='black')\n",
    "plt.title('Calculated Finished Square Feet Scaled')"
   ]
  },
  {
   "cell_type": "code",
   "execution_count": null,
   "id": "reliable-humanity",
   "metadata": {},
   "outputs": [],
   "source": []
  }
 ],
 "metadata": {
  "kernelspec": {
   "display_name": "Python 3",
   "language": "python",
   "name": "python3"
  },
  "language_info": {
   "codemirror_mode": {
    "name": "ipython",
    "version": 3
   },
   "file_extension": ".py",
   "mimetype": "text/x-python",
   "name": "python",
   "nbconvert_exporter": "python",
   "pygments_lexer": "ipython3",
   "version": "3.7.4"
  }
 },
 "nbformat": 4,
 "nbformat_minor": 5
}
