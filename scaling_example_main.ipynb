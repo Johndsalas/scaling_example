{
 "cells": [
  {
   "cell_type": "code",
   "execution_count": 1,
   "id": "impaired-egyptian",
   "metadata": {},
   "outputs": [],
   "source": [
    "import pandas as pd\n",
    "import numpy as np\n",
    "\n",
    "import seaborn as sns\n",
    "import matplotlib.pyplot as plt\n",
    "\n",
    "from sklearn.metrics import mean_squared_error, explained_variance_score\n",
    "from sklearn.linear_model import LinearRegression, LassoLars, TweedieRegressor\n",
    "from sklearn.preprocessing import PolynomialFeatures\n",
    "from sklearn.preprocessing import StandardScaler, QuantileTransformer, PowerTransformer,RobustScaler,MinMaxScaler\n",
    "\n",
    "\n",
    "import warnings\n",
    "warnings.filterwarnings(\"ignore\")\n",
    "\n",
    "import acquire as a\n",
    "import prepare as p"
   ]
  },
  {
   "cell_type": "code",
   "execution_count": 2,
   "id": "vanilla-shakespeare",
   "metadata": {},
   "outputs": [],
   "source": [
    "df = a.get_zillow_data()"
   ]
  },
  {
   "cell_type": "code",
   "execution_count": 3,
   "id": "charitable-place",
   "metadata": {},
   "outputs": [
    {
     "data": {
      "text/plain": [
       "Index(['parcelid', 'logerror', 'transactiondate', 'id', 'parcelid',\n",
       "       'airconditioningtypeid', 'architecturalstyletypeid', 'basementsqft',\n",
       "       'bathroomcnt', 'bedroomcnt', 'buildingclasstypeid',\n",
       "       'buildingqualitytypeid', 'calculatedbathnbr', 'decktypeid',\n",
       "       'finishedfloor1squarefeet', 'calculatedfinishedsquarefeet',\n",
       "       'finishedsquarefeet12', 'finishedsquarefeet13', 'finishedsquarefeet15',\n",
       "       'finishedsquarefeet50', 'finishedsquarefeet6', 'fips', 'fireplacecnt',\n",
       "       'fullbathcnt', 'garagecarcnt', 'garagetotalsqft', 'hashottuborspa',\n",
       "       'heatingorsystemtypeid', 'latitude', 'longitude', 'lotsizesquarefeet',\n",
       "       'poolcnt', 'poolsizesum', 'pooltypeid10', 'pooltypeid2', 'pooltypeid7',\n",
       "       'propertycountylandusecode', 'propertylandusetypeid',\n",
       "       'propertyzoningdesc', 'rawcensustractandblock', 'regionidcity',\n",
       "       'regionidcounty', 'regionidneighborhood', 'regionidzip', 'roomcnt',\n",
       "       'storytypeid', 'threequarterbathnbr', 'typeconstructiontypeid',\n",
       "       'unitcnt', 'yardbuildingsqft17', 'yardbuildingsqft26', 'yearbuilt',\n",
       "       'numberofstories', 'fireplaceflag', 'structuretaxvaluedollarcnt',\n",
       "       'taxvaluedollarcnt', 'assessmentyear', 'landtaxvaluedollarcnt',\n",
       "       'taxamount', 'taxdelinquencyflag', 'taxdelinquencyyear',\n",
       "       'censustractandblock'],\n",
       "      dtype='object')"
      ]
     },
     "execution_count": 3,
     "metadata": {},
     "output_type": "execute_result"
    }
   ],
   "source": [
    "df.columns"
   ]
  },
  {
   "cell_type": "code",
   "execution_count": 4,
   "id": "appropriate-empire",
   "metadata": {},
   "outputs": [],
   "source": [
    "df = df[['bathroomcnt', 'calculatedfinishedsquarefeet', 'taxvaluedollarcnt']]"
   ]
  },
  {
   "cell_type": "code",
   "execution_count": 5,
   "id": "european-wisconsin",
   "metadata": {},
   "outputs": [
    {
     "data": {
      "text/html": [
       "<div>\n",
       "<style scoped>\n",
       "    .dataframe tbody tr th:only-of-type {\n",
       "        vertical-align: middle;\n",
       "    }\n",
       "\n",
       "    .dataframe tbody tr th {\n",
       "        vertical-align: top;\n",
       "    }\n",
       "\n",
       "    .dataframe thead th {\n",
       "        text-align: right;\n",
       "    }\n",
       "</style>\n",
       "<table border=\"1\" class=\"dataframe\">\n",
       "  <thead>\n",
       "    <tr style=\"text-align: right;\">\n",
       "      <th></th>\n",
       "      <th>bathroomcnt</th>\n",
       "      <th>calculatedfinishedsquarefeet</th>\n",
       "      <th>taxvaluedollarcnt</th>\n",
       "    </tr>\n",
       "  </thead>\n",
       "  <tbody>\n",
       "    <tr>\n",
       "      <th>0</th>\n",
       "      <td>3.0</td>\n",
       "      <td>2376.0</td>\n",
       "      <td>145143.0</td>\n",
       "    </tr>\n",
       "    <tr>\n",
       "      <th>1</th>\n",
       "      <td>3.0</td>\n",
       "      <td>2962.0</td>\n",
       "      <td>773303.0</td>\n",
       "    </tr>\n",
       "    <tr>\n",
       "      <th>2</th>\n",
       "      <td>1.0</td>\n",
       "      <td>738.0</td>\n",
       "      <td>218552.0</td>\n",
       "    </tr>\n",
       "    <tr>\n",
       "      <th>3</th>\n",
       "      <td>3.0</td>\n",
       "      <td>3039.0</td>\n",
       "      <td>220583.0</td>\n",
       "    </tr>\n",
       "    <tr>\n",
       "      <th>4</th>\n",
       "      <td>3.0</td>\n",
       "      <td>2540.0</td>\n",
       "      <td>430108.0</td>\n",
       "    </tr>\n",
       "  </tbody>\n",
       "</table>\n",
       "</div>"
      ],
      "text/plain": [
       "   bathroomcnt  calculatedfinishedsquarefeet  taxvaluedollarcnt\n",
       "0          3.0                        2376.0           145143.0\n",
       "1          3.0                        2962.0           773303.0\n",
       "2          1.0                         738.0           218552.0\n",
       "3          3.0                        3039.0           220583.0\n",
       "4          3.0                        2540.0           430108.0"
      ]
     },
     "execution_count": 5,
     "metadata": {},
     "output_type": "execute_result"
    }
   ],
   "source": [
    "df.head()"
   ]
  },
  {
   "cell_type": "code",
   "execution_count": 6,
   "id": "thick-semester",
   "metadata": {},
   "outputs": [],
   "source": [
    "df = df.dropna()"
   ]
  },
  {
   "cell_type": "code",
   "execution_count": 7,
   "id": "registered-convenience",
   "metadata": {},
   "outputs": [
    {
     "data": {
      "text/plain": [
       "bathroomcnt                     0\n",
       "calculatedfinishedsquarefeet    0\n",
       "taxvaluedollarcnt               0\n",
       "dtype: int64"
      ]
     },
     "execution_count": 7,
     "metadata": {},
     "output_type": "execute_result"
    }
   ],
   "source": [
    "df.isna().sum()"
   ]
  },
  {
   "cell_type": "code",
   "execution_count": 8,
   "id": "equivalent-trader",
   "metadata": {},
   "outputs": [
    {
     "data": {
      "text/html": [
       "<div>\n",
       "<style scoped>\n",
       "    .dataframe tbody tr th:only-of-type {\n",
       "        vertical-align: middle;\n",
       "    }\n",
       "\n",
       "    .dataframe tbody tr th {\n",
       "        vertical-align: top;\n",
       "    }\n",
       "\n",
       "    .dataframe thead th {\n",
       "        text-align: right;\n",
       "    }\n",
       "</style>\n",
       "<table border=\"1\" class=\"dataframe\">\n",
       "  <thead>\n",
       "    <tr style=\"text-align: right;\">\n",
       "      <th></th>\n",
       "      <th>bathroomcnt</th>\n",
       "      <th>calculatedfinishedsquarefeet</th>\n",
       "      <th>taxvaluedollarcnt</th>\n",
       "    </tr>\n",
       "  </thead>\n",
       "  <tbody>\n",
       "    <tr>\n",
       "      <th>0</th>\n",
       "      <td>3.0</td>\n",
       "      <td>2376.0</td>\n",
       "      <td>145143.0</td>\n",
       "    </tr>\n",
       "    <tr>\n",
       "      <th>1</th>\n",
       "      <td>3.0</td>\n",
       "      <td>2962.0</td>\n",
       "      <td>773303.0</td>\n",
       "    </tr>\n",
       "    <tr>\n",
       "      <th>2</th>\n",
       "      <td>1.0</td>\n",
       "      <td>738.0</td>\n",
       "      <td>218552.0</td>\n",
       "    </tr>\n",
       "    <tr>\n",
       "      <th>3</th>\n",
       "      <td>3.0</td>\n",
       "      <td>3039.0</td>\n",
       "      <td>220583.0</td>\n",
       "    </tr>\n",
       "    <tr>\n",
       "      <th>4</th>\n",
       "      <td>3.0</td>\n",
       "      <td>2540.0</td>\n",
       "      <td>430108.0</td>\n",
       "    </tr>\n",
       "  </tbody>\n",
       "</table>\n",
       "</div>"
      ],
      "text/plain": [
       "   bathroomcnt  calculatedfinishedsquarefeet  taxvaluedollarcnt\n",
       "0          3.0                        2376.0           145143.0\n",
       "1          3.0                        2962.0           773303.0\n",
       "2          1.0                         738.0           218552.0\n",
       "3          3.0                        3039.0           220583.0\n",
       "4          3.0                        2540.0           430108.0"
      ]
     },
     "execution_count": 8,
     "metadata": {},
     "output_type": "execute_result"
    }
   ],
   "source": [
    "df.head()"
   ]
  },
  {
   "cell_type": "code",
   "execution_count": 9,
   "id": "classical-multiple",
   "metadata": {},
   "outputs": [],
   "source": [
    "train, test = p.split_my_data(df, train_ratio = .80, seed = 123)"
   ]
  },
  {
   "cell_type": "markdown",
   "id": "posted-dover",
   "metadata": {},
   "source": [
    "# Unscaled"
   ]
  },
  {
   "cell_type": "code",
   "execution_count": 21,
   "id": "silver-right",
   "metadata": {},
   "outputs": [
    {
     "name": "stdout",
     "output_type": "stream",
     "text": [
      "Baseline RMSE: 307308915996.9734\n",
      "RMSE Unscaled: 206959322106.87646\n",
      "Coefficient Array Unscaled: [290.71254163 473.91435609]\n"
     ]
    }
   ],
   "source": [
    "# split into X and y\n",
    "X_train = train[['bathroomcnt', 'calculatedfinishedsquarefeet']]\n",
    "y_train = train[['taxvaluedollarcnt']]\n",
    "\n",
    "X_test = test[['bathroomcnt', 'calculatedfinishedsquarefeet']]\n",
    "y_test = test[['taxvaluedollarcnt']]\n",
    "\n",
    "# get baseline value for X and y\n",
    "mean_tax_value = int(y_train['taxvaluedollarcnt'].mean(axis=0))\n",
    "y_test[['yhat']] = mean_tax_value\n",
    "\n",
    "baseline_rmse = mean_squared_error(y_test.taxvaluedollarcnt, y_test.yhat)**1/2\n",
    "print(f\"Baseline RMSE: {baseline_rmse}\\n\")\n",
    "\n",
    "# create/fit regression model on unscaled data\n",
    "lr = LinearRegression(normalize=True)\n",
    "\n",
    "lr.fit(X_train,y_train.taxvaluedollarcnt)\n",
    "\n",
    "# get predictions\n",
    "y_test['predictions'] = lr.predict(X_test)\n",
    "\n",
    "# get error and coefficients for unscaled data\n",
    "rmse_test = mean_squared_error(y_test.taxvaluedollarcnt, y_test.predictions)**1/2\n",
    "coef = lr.coef_\n",
    "\n",
    "print(f\"RMSE Unscaled: {rmse_test}\")\n",
    "print(f\"Coefficient Array Unscaled: {coef}\\n\")"
   ]
  },
  {
   "cell_type": "markdown",
   "id": "behind-front",
   "metadata": {},
   "source": [
    "# Scaled"
   ]
  },
  {
   "cell_type": "code",
   "execution_count": 22,
   "id": "simple-encyclopedia",
   "metadata": {},
   "outputs": [],
   "source": [
    "def scaler_min_max(df, col_list):\n",
    "    df_2 = df[col_list]\n",
    "    df = df.drop(columns = col_list)\n",
    "    scaler = MinMaxScaler(copy=True, feature_range=(0,1)).fit(df_2)\n",
    "    df_2 = pd.DataFrame(scaler.transform(df_2), columns=df_2.columns.values).set_index([df_2.index.values])\n",
    "    df = df.join(df_2)\n",
    "    return df"
   ]
  },
  {
   "cell_type": "code",
   "execution_count": 23,
   "id": "registered-bulgarian",
   "metadata": {},
   "outputs": [
    {
     "name": "stdout",
     "output_type": "stream",
     "text": [
      "RMSE scaled: 476820257762.3919\n",
      "Coefficient Array scaled: [3.48855050e+03 1.01536151e+07]\n",
      "\n"
     ]
    }
   ],
   "source": [
    "# scale X data\n",
    "X_train_scaled = scaler_min_max(X_train, ['bathroomcnt', 'calculatedfinishedsquarefeet'])\n",
    "X_test_scaled = scaler_min_max(X_test, ['bathroomcnt', 'calculatedfinishedsquarefeet'])\n",
    "\n",
    "# create and fit object to scaled data\n",
    "lr2 = LinearRegression(normalize=True)\n",
    "lr2.fit(X_train_scaled, y_train.taxvaluedollarcnt)\n",
    "\n",
    "# get predictions\n",
    "y_test['predictions_scaled'] = lr2.predict(X_test_scaled)\n",
    "\n",
    "# get error and coefficients for scaled data\n",
    "rmse_test = mean_squared_error(y_test.taxvaluedollarcnt, y_test.predictions_scaled)**1/2\n",
    "\n",
    "coef = lr.coef_\n",
    "\n",
    "print(f\"RMSE scaled: {rmse2_test}\")\n",
    "print(f\"Coefficient Array scaled: {coef2}\\n\")"
   ]
  }
 ],
 "metadata": {
  "kernelspec": {
   "display_name": "Python 3",
   "language": "python",
   "name": "python3"
  },
  "language_info": {
   "codemirror_mode": {
    "name": "ipython",
    "version": 3
   },
   "file_extension": ".py",
   "mimetype": "text/x-python",
   "name": "python",
   "nbconvert_exporter": "python",
   "pygments_lexer": "ipython3",
   "version": "3.7.4"
  }
 },
 "nbformat": 4,
 "nbformat_minor": 5
}
