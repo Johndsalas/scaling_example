{
 "cells": [
  {
   "cell_type": "code",
   "execution_count": 1,
   "id": "satellite-collector",
   "metadata": {},
   "outputs": [],
   "source": [
    "# Exercise 85\n",
    "# Write a function definition named get_values_in_common that takes two \n",
    "# lists and returns a single set with the values that each list has in common"
   ]
  },
  {
   "cell_type": "code",
   "execution_count": 2,
   "id": "latest-pregnancy",
   "metadata": {},
   "outputs": [],
   "source": [
    "li1 = [1,2,3,4]\n",
    "li2 = [1,3,5,7]"
   ]
  },
  {
   "cell_type": "code",
   "execution_count": 5,
   "id": "delayed-silence",
   "metadata": {},
   "outputs": [
    {
     "data": {
      "text/plain": [
       "{1, 3}"
      ]
     },
     "execution_count": 5,
     "metadata": {},
     "output_type": "execute_result"
    }
   ],
   "source": [
    "final = []\n",
    "\n",
    "for num in li1:\n",
    "    \n",
    "    if num in li2:\n",
    "        \n",
    "        final.append(num)\n",
    "        \n",
    "set(final)"
   ]
  },
  {
   "cell_type": "code",
   "execution_count": 20,
   "id": "received-conducting",
   "metadata": {},
   "outputs": [],
   "source": [
    "def get_values_in_common(li1,li2):\n",
    "    \n",
    "    final = []\n",
    "    \n",
    "    for obj in li1:\n",
    "    \n",
    "        if obj in li2:\n",
    "        \n",
    "            final.append(obj)\n",
    "        \n",
    "    return set(final)"
   ]
  },
  {
   "cell_type": "code",
   "execution_count": 21,
   "id": "arabic-stability",
   "metadata": {},
   "outputs": [
    {
     "data": {
      "text/plain": [
       "{1, 3}"
      ]
     },
     "execution_count": 21,
     "metadata": {},
     "output_type": "execute_result"
    }
   ],
   "source": [
    "get_values_in_common([1,3,5,7],[1,2,3,4])"
   ]
  },
  {
   "cell_type": "code",
   "execution_count": 23,
   "id": "limiting-accordance",
   "metadata": {},
   "outputs": [
    {
     "name": "stdout",
     "output_type": "stream",
     "text": [
      "4\n",
      "5\n",
      "6\n",
      "7\n"
     ]
    }
   ],
   "source": [
    "li = [1,2,3,4]\n",
    "\n",
    "for num in li:\n",
    "    \n",
    "    print(num + 3)"
   ]
  },
  {
   "cell_type": "code",
   "execution_count": 25,
   "id": "functioning-switch",
   "metadata": {},
   "outputs": [
    {
     "data": {
      "text/plain": [
       "'kiwi'"
      ]
     },
     "execution_count": 25,
     "metadata": {},
     "output_type": "execute_result"
    }
   ],
   "source": [
    "# Exercise 81\n",
    "# Write a function definition named shortest_string that takes in a \n",
    "# list of strings and returns the shortest string in the list.\n",
    "\n",
    "li = [\"kiwi\", \"mango\", \"strawberry\"]\n",
    "\n",
    "min(li, key=len)"
   ]
  },
  {
   "cell_type": "code",
   "execution_count": 26,
   "id": "noted-completion",
   "metadata": {},
   "outputs": [
    {
     "data": {
      "text/plain": [
       "'everybody'"
      ]
     },
     "execution_count": 26,
     "metadata": {},
     "output_type": "execute_result"
    }
   ],
   "source": [
    "li = [\"hello\", \"everybody\"]\n",
    "\n",
    "min(li)"
   ]
  },
  {
   "cell_type": "code",
   "execution_count": 27,
   "id": "hungry-briefs",
   "metadata": {},
   "outputs": [
    {
     "data": {
      "text/plain": [
       "'hello'"
      ]
     },
     "execution_count": 27,
     "metadata": {},
     "output_type": "execute_result"
    }
   ],
   "source": [
    "li = [\"hello\", \"everybody\"]\n",
    "\n",
    "min(li, key=len)"
   ]
  },
  {
   "cell_type": "code",
   "execution_count": 28,
   "id": "stuffed-croatia",
   "metadata": {},
   "outputs": [],
   "source": [
    "def shortest_string(li):\n",
    "    \n",
    "    return min(li, key=len)"
   ]
  },
  {
   "cell_type": "code",
   "execution_count": 29,
   "id": "exposed-aerospace",
   "metadata": {},
   "outputs": [
    {
     "data": {
      "text/plain": [
       "'hello'"
      ]
     },
     "execution_count": 29,
     "metadata": {},
     "output_type": "execute_result"
    }
   ],
   "source": [
    "shortest_string(li)"
   ]
  },
  {
   "cell_type": "code",
   "execution_count": 30,
   "id": "promising-strap",
   "metadata": {},
   "outputs": [],
   "source": [
    "books = [\n",
    "                {\n",
    "                    \"title\": \"Genetic Algorithms and Machine Learning for Programmers\",\n",
    "                    \"price\": 36.99,\n",
    "                    \"author\": \"Frances Buontempo\"\n",
    "                },\n",
    "                {\n",
    "                    \"title\": \"The Visual Display of Quantitative Information\",\n",
    "                    \"price\": 38.00,\n",
    "                    \"author\": \"Edward Tufte\"\n",
    "                },\n",
    "                {\n",
    "                    \"title\": \"Practical Object-Oriented Design\",\n",
    "                    \"author\": \"Sandi Metz\",\n",
    "                    \"price\": 30.47\n",
    "                },\n",
    "                {\n",
    "                    \"title\": \"Weapons of Math Destruction\",\n",
    "                    \"author\": \"Cathy O'Neil\",\n",
    "                    \"price\": 17.44\n",
    "                }\n",
    "        ]"
   ]
  },
  {
   "cell_type": "code",
   "execution_count": 31,
   "id": "unnecessary-appliance",
   "metadata": {},
   "outputs": [],
   "source": [
    "# Write a function called lowest_priced_book that takes in the above defined list of \n",
    "# dictionaries \"books\" and returns the dictionary containing the title, price, \n",
    "# and author of the book with the lowest priced book.\n",
    "\n",
    "# take in a list of books\n",
    "# loop through the list and get the price of the book\n",
    "# if the book is the lowest ptice we will save the book and the price\n",
    "# after looping through all the books return the book with the lowset price"
   ]
  },
  {
   "cell_type": "code",
   "execution_count": 34,
   "id": "ceramic-color",
   "metadata": {},
   "outputs": [
    {
     "data": {
      "text/plain": [
       "{'title': 'Weapons of Math Destruction',\n",
       " 'author': \"Cathy O'Neil\",\n",
       " 'price': 17.44}"
      ]
     },
     "execution_count": 34,
     "metadata": {},
     "output_type": "execute_result"
    }
   ],
   "source": [
    "lowest_book = {}\n",
    "\n",
    "lowest_price = 9999999999999\n",
    "\n",
    "for book in books:\n",
    "    \n",
    "    if book[\"price\"] < lowest_price:\n",
    "        \n",
    "        lowest_price = book[\"price\"]\n",
    "        \n",
    "        lowest_book = book\n",
    "        \n",
    "lowest_book"
   ]
  },
  {
   "cell_type": "code",
   "execution_count": 41,
   "id": "alternative-lawrence",
   "metadata": {},
   "outputs": [],
   "source": [
    "def lowest_priced_book(books):\n",
    "    \n",
    "    lowest_book = {}\n",
    "\n",
    "    lowest_price = float('inf')\n",
    "\n",
    "    for book in books:\n",
    "    \n",
    "        if book[\"price\"] < lowest_price:\n",
    "        \n",
    "            lowest_price = book[\"price\"]\n",
    "        \n",
    "            lowest_book = book\n",
    "        \n",
    "    return lowest_book"
   ]
  },
  {
   "cell_type": "code",
   "execution_count": 42,
   "id": "increased-digest",
   "metadata": {},
   "outputs": [
    {
     "data": {
      "text/plain": [
       "{'title': 'Weapons of Math Destruction',\n",
       " 'author': \"Cathy O'Neil\",\n",
       " 'price': 17.44}"
      ]
     },
     "execution_count": 42,
     "metadata": {},
     "output_type": "execute_result"
    }
   ],
   "source": [
    "lowest_priced_book(books)"
   ]
  },
  {
   "cell_type": "code",
   "execution_count": 43,
   "id": "documentary-establishment",
   "metadata": {},
   "outputs": [],
   "source": [
    "# Exercise 97\n",
    "# Write a function named number_of_item_types that takes in the shopping cart as input and returns \n",
    "# the number of unique item types in the shopping cart. \n",
    "# We're not yet using the quantity of each item, but rather focusing on determining how many \n",
    "# different types of items are in the cart."
   ]
  },
  {
   "cell_type": "code",
   "execution_count": 44,
   "id": "smart-denver",
   "metadata": {},
   "outputs": [],
   "source": [
    "shopping_cart = {\n",
    "                    \"tax\": .08,\n",
    "                    \"items\": [\n",
    "                                    {\n",
    "                                        \"title\": \"orange juice\",\n",
    "                                        \"price\": 3.99,\n",
    "                                        \"quantity\": 1\n",
    "                                    },\n",
    "                                    {\n",
    "                                        \"title\": \"rice\",\n",
    "                                        \"price\": 1.99,\n",
    "                                        \"quantity\": 3\n",
    "                                    },\n",
    "                                    {\n",
    "                                        \"title\": \"beans\",\n",
    "                                        \"price\": 0.99,\n",
    "                                        \"quantity\": 3\n",
    "                                    },\n",
    "                                    {\n",
    "                                        \"title\": \"chili sauce\",\n",
    "                                        \"price\": 2.99,\n",
    "                                        \"quantity\": 1\n",
    "                                    },\n",
    "                                    {\n",
    "                                        \"title\": \"chocolate\",\n",
    "                                        \"price\": 0.75,\n",
    "                                        \"quantity\": 9\n",
    "                                    }\n",
    "                             ]\n",
    "                    }"
   ]
  },
  {
   "cell_type": "code",
   "execution_count": 45,
   "id": "gross-boutique",
   "metadata": {},
   "outputs": [
    {
     "data": {
      "text/plain": [
       "[{'title': 'orange juice', 'price': 3.99, 'quantity': 1},\n",
       " {'title': 'rice', 'price': 1.99, 'quantity': 3},\n",
       " {'title': 'beans', 'price': 0.99, 'quantity': 3},\n",
       " {'title': 'chili sauce', 'price': 2.99, 'quantity': 1},\n",
       " {'title': 'chocolate', 'price': 0.75, 'quantity': 9}]"
      ]
     },
     "execution_count": 45,
     "metadata": {},
     "output_type": "execute_result"
    }
   ],
   "source": [
    "shopping_cart['items']"
   ]
  },
  {
   "cell_type": "code",
   "execution_count": 49,
   "id": "graphic-clarity",
   "metadata": {},
   "outputs": [
    {
     "data": {
      "text/plain": [
       "17"
      ]
     },
     "execution_count": 49,
     "metadata": {},
     "output_type": "execute_result"
    }
   ],
   "source": [
    "total = 0\n",
    "\n",
    "for item in shopping_cart['items']:\n",
    "    \n",
    "    total += item['quantity']\n",
    "    \n",
    "total"
   ]
  },
  {
   "cell_type": "code",
   "execution_count": 50,
   "id": "signed-stretch",
   "metadata": {},
   "outputs": [],
   "source": [
    "books = [\n",
    "                {\n",
    "                    \"title\": \"Genetic Algorithms and Machine Learning for Programmers\",\n",
    "                    \"price\": 36.99,\n",
    "                    \"author\": \"Frances Buontempo\"\n",
    "                },\n",
    "                {\n",
    "                    \"title\": \"The Visual Display of Quantitative Information\",\n",
    "                    \"price\": 38.00,\n",
    "                    \"author\": \"Edward Tufte\"\n",
    "                },\n",
    "                {\n",
    "                    \"title\": \"Practical Object-Oriented Design\",\n",
    "                    \"author\": \"Sandi Metz\",\n",
    "                    \"price\": 30.47\n",
    "                },\n",
    "                {\n",
    "                    \"title\": \"Weapons of Math Destruction\",\n",
    "                    \"author\": \"Cathy O'Neil\",\n",
    "                    \"price\": 17.44\n",
    "                }\n",
    "        ]"
   ]
  },
  {
   "cell_type": "code",
   "execution_count": 51,
   "id": "turkish-profit",
   "metadata": {},
   "outputs": [],
   "source": [
    "# Exercise 91\n",
    "# Write a function named get_number_of_books that takes in a list of objects and returns the number\n",
    "# of dictionaries in that list."
   ]
  },
  {
   "cell_type": "code",
   "execution_count": 53,
   "id": "extensive-belfast",
   "metadata": {},
   "outputs": [
    {
     "data": {
      "text/plain": [
       "4"
      ]
     },
     "execution_count": 53,
     "metadata": {},
     "output_type": "execute_result"
    }
   ],
   "source": [
    "count = 0\n",
    "\n",
    "for book in books:\n",
    "    \n",
    "    count += 1\n",
    "    \n",
    "count"
   ]
  },
  {
   "cell_type": "code",
   "execution_count": 54,
   "id": "thick-egypt",
   "metadata": {},
   "outputs": [],
   "source": [
    "def get_number_of_books(books):\n",
    "    \n",
    "    count = 0\n",
    "\n",
    "    for book in books:\n",
    "    \n",
    "        count += 1\n",
    "    \n",
    "    return count"
   ]
  },
  {
   "cell_type": "code",
   "execution_count": 55,
   "id": "creative-panama",
   "metadata": {},
   "outputs": [
    {
     "data": {
      "text/plain": [
       "4"
      ]
     },
     "execution_count": 55,
     "metadata": {},
     "output_type": "execute_result"
    }
   ],
   "source": [
    "get_number_of_books(books)"
   ]
  },
  {
   "cell_type": "code",
   "execution_count": null,
   "id": "occasional-pearl",
   "metadata": {},
   "outputs": [],
   "source": []
  }
 ],
 "metadata": {
  "kernelspec": {
   "display_name": "Python 3",
   "language": "python",
   "name": "python3"
  },
  "language_info": {
   "codemirror_mode": {
    "name": "ipython",
    "version": 3
   },
   "file_extension": ".py",
   "mimetype": "text/x-python",
   "name": "python",
   "nbconvert_exporter": "python",
   "pygments_lexer": "ipython3",
   "version": "3.7.4"
  }
 },
 "nbformat": 4,
 "nbformat_minor": 5
}
